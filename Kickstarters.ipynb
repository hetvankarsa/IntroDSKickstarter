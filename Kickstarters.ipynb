{
 "cells": [
  {
   "cell_type": "code",
   "execution_count": 1,
   "metadata": {},
   "outputs": [],
   "source": [
    "# Import necessary modules and functions\n",
    "\n",
    "import pandas as pd # get information from files\n",
    "import seaborn as sns # statistically summarizing information (for plots?)\n",
    "import numpy as np # for large, multi-dimensional arrays and mathematical functions\n",
    "import random \n",
    "\n",
    "import matplotlib.pyplot as plt # a plotting library; (pyplot from python)\n",
    "%matplotlib inline\n",
    "\n",
    "from matplotlib.pylab import rcParams\n",
    "rcParams['figure.figsize'] = 16, 8\n",
    "\n",
    "from scipy.stats import norm\n",
    "from scipy import stats # scipy is a library for scientific computing; it imports statistical computation\n",
    "\n",
    "# sklearn is a machine learning library:\n",
    "from sklearn.preprocessing import StandardScaler # StandardScaler calculates z values\n",
    "from sklearn.model_selection import train_test_split\n",
    "from sklearn.linear_model import LinearRegression\n",
    "\n",
    "import warnings\n",
    "warnings.filterwarnings('ignore')"
   ]
  },
  {
   "cell_type": "code",
   "execution_count": 2,
   "metadata": {},
   "outputs": [],
   "source": [
    "KS_trainSet = pd.read_csv('KS_train_data.csv', delimiter = ',') # gets training dataset\n",
    "KS_testSet = pd.read_csv('KS_test_data.csv', delimiter = ',') # gets training dataset\n",
    "\n",
    "training_data = pd.read_csv('training_data.csv', delimiter = ',') # gets training dataset"
   ]
  },
  {
   "cell_type": "markdown",
   "metadata": {},
   "source": [
    "    The kickstarter website is basically a platform where people can scroll and find businesses\n",
    "    that need some support to start. As a simple user, you can choose to donate money: 1 USD or more;\n",
    "    I believe most people donate 1 USD. If business reaches its goal until the pre-set deadline,\n",
    "    it will be funded. If not, no user will loose his/her dollar.\n",
    "    \n",
    "    Each project has the following attributes that describe it (the ones with a star are also in the test set)\n",
    "    (the ! symbol is the final training set):\n",
    "\n",
    "    !*project_id = unique identifier of project\n",
    "    backers_count = how many people + institutions financially support the project\n",
    "    *blurb = short description of project\n",
    "    !*category = theme of project; can be art, music, publishing, crafts, ...\n",
    "    !*subcategory = subfield of category\n",
    "    *country = country where business shall take place\n",
    "    *name = name of business\n",
    "    !*staff_pick = TRUE if someone from the Kickstarter.com staff likes your project (doesn't rlly help with anything)\n",
    "    !*location = city in which the business is located\n",
    "    !funded = TRUE or FALSE \n",
    "    *project_url = website of business\n",
    "    *reward_url = website where you can donate money for this business\n",
    "    \n",
    "    pledged = how many people donated\n",
    "    usd_pledged = how much usd was donated (usually the same as pledged, bcz most people donate 1 usd)\n",
    "    converted_pledged_amount = how much money was donated (sum is here converted)\n",
    "    !*goal = the minimal sum they have to reach in order to be funded\n",
    "    !*currency = the currency in which the money are represented\n",
    "    !*fx_rate = currency exchange rate\n",
    "    \n",
    "    *created_at = time when project is put on website\n",
    "    !*deadline = maximum time when project should be launched\n",
    "    !*launched_at = when Kickstarters.com aprove it and it's the first day you cand start receiving money"
   ]
  },
  {
   "cell_type": "code",
   "execution_count": 3,
   "metadata": {},
   "outputs": [],
   "source": [
    "################################################## CLEANING DATA ##############################################################\n",
    "\n",
    "# Create another dataset with neccesary attributes:\n",
    "\n",
    "# df = KS_trainSet[['project_id', 'category', 'subcategory', 'staff_pick', 'country', 'goal', 'currency', 'fx_rate', 'launched_at', 'deadline', 'funded']]\n",
    "# export_csv = df.to_csv (r'C:\\ComputerScience\\Year3\\Period1\\IntroDataScience\\IntroDataScienceKickstarter\\training_data.csv', index = None, header=True) #Don't forget to add '.csv' at the end of the path\n",
    "\n",
    "# There are quite a few instances that have an unknown country\n",
    "# All of them use USD as currency. Therefore, we assume all these projects\n",
    "# are from the US:\n",
    "\n",
    "country_attribute = []\n",
    "for i in range(len(training_data)):\n",
    "    if(training_data.iloc[i].country != '?'):\n",
    "        country_attribute.append(training_data.iloc[i].country)\n",
    "    else:\n",
    "        country_attribute.append('US')\n",
    "        \n",
    "training_data['final_country_attribute'] = country_attribute"
   ]
  },
  {
   "cell_type": "code",
   "execution_count": 4,
   "metadata": {},
   "outputs": [
    {
     "data": {
      "text/plain": [
       "<matplotlib.axes._subplots.AxesSubplot at 0x1fbcbe30f60>"
      ]
     },
     "execution_count": 4,
     "metadata": {},
     "output_type": "execute_result"
    },
    {
     "data": {
      "image/png": "[encoded data removed]",
      "text/plain": [
       "<Figure size 432x288 with 1 Axes>"
      ]
     },
     "metadata": {
      "needs_background": "light"
     },
     "output_type": "display_data"
    }
   ],
   "source": [
    "################################################### PICKING FEATURES ##########################################################\n",
    "\n",
    "# 1. CATEGORY: \n",
    "\n",
    "training_data['category'].value_counts().plot(kind='bar')"
   ]
  },
  {
   "cell_type": "code",
   "execution_count": 5,
   "metadata": {},
   "outputs": [
    {
     "name": "stdout",
     "output_type": "stream",
     "text": [
      "['music', 'film & video', 'technology', 'art', 'publishing', 'food', 'games', 'fashion', 'comics', 'design', 'photography', 'theater', 'crafts', 'journalism', 'dance']\n",
      "[68, 61, 38, 55, 72, 36, 62, 44, 76, 72, 55, 75, 51, 30]\n"
     ]
    }
   ],
   "source": [
    "# This piece of code analyzes the 'category' attribute. \n",
    "# The printed vector shows the probability that, for each category, the project was picked to be funded\n",
    "\n",
    "category_total_values = training_data['category'].value_counts()\n",
    "categories = ['music', 'film & video', 'technology', 'art', 'publishing', 'food', 'games',\n",
    "             'fashion', 'comics', 'design', 'photography', 'theater', 'crafts', 'journalism', 'dance']\n",
    "print(categories)\n",
    "\n",
    "category_funded = [0 for x in range(14)]\n",
    "\n",
    "for i in range(14):\n",
    "    counter = 0\n",
    "    for index, row in training_data.iterrows():\n",
    "        if ((row.category == categories[i]) and (row.funded == True)):\n",
    "            counter += 1\n",
    "    category_funded[i] = (int)((counter * 100) / category_total_values[i])\n",
    "      \n",
    "print(category_funded)"
   ]
  },
  {
   "cell_type": "code",
   "execution_count": 6,
   "metadata": {},
   "outputs": [
    {
     "data": {
      "text/plain": [
       "<matplotlib.axes._subplots.AxesSubplot at 0x1fbcd24b828>"
      ]
     },
     "execution_count": 6,
     "metadata": {},
     "output_type": "execute_result"
    },
    {
     "data": {
      "image/png": "[encoded data removed]",
      "text/plain": [
       "<Figure size 432x288 with 1 Axes>"
      ]
     },
     "metadata": {
      "needs_background": "light"
     },
     "output_type": "display_data"
    }
   ],
   "source": [
    "# 2. STAFF_PICK:\n",
    "\n",
    "training_data['staff_pick'].value_counts().plot(kind='bar')"
   ]
  },
  {
   "cell_type": "code",
   "execution_count": 4,
   "metadata": {},
   "outputs": [
    {
     "name": "stdout",
     "output_type": "stream",
     "text": [
      "False    86050\n",
      "True     13950\n",
      "Name: staff_pick, dtype: int64\n",
      "[53, 89]\n"
     ]
    }
   ],
   "source": [
    "# 2. This piece of code shows the probability of a project to be picked when it has staff_picks or not\n",
    "\n",
    "staff_pick_total_values = training_data['staff_pick'].value_counts()\n",
    "print(staff_pick_total_values)\n",
    "\n",
    "staff_pick_funded = [0 for x in range(2)]\n",
    "\n",
    "counter = 0\n",
    "counter2 = 0\n",
    "for index, row in training_data.iterrows():\n",
    "    if ((row.staff_pick == False) and (row.funded == True)):\n",
    "        counter += 1\n",
    "    if ((row.staff_pick == True) and (row.funded == True)):\n",
    "        counter2 += 1\n",
    "        \n",
    "staff_pick_funded[0] = (int)((counter * 100) / staff_pick_total_values[0])\n",
    "staff_pick_funded[1] = (int)((counter2 * 100) / staff_pick_total_values[1])\n",
    "      \n",
    "print(staff_pick_funded)\n",
    "\n",
    "# Thus, 'staff_pick' can be used as a feature"
   ]
  },
  {
   "cell_type": "code",
   "execution_count": 16,
   "metadata": {},
   "outputs": [
    {
     "data": {
      "text/plain": [
       "<matplotlib.axes._subplots.AxesSubplot at 0x24d1ca4a898>"
      ]
     },
     "execution_count": 16,
     "metadata": {},
     "output_type": "execute_result"
    },
    {
     "data": {
      "image/png": "[encoded data removed]",
      "text/plain": [
       "<Figure size 432x288 with 1 Axes>"
      ]
     },
     "metadata": {
      "needs_background": "light"
     },
     "output_type": "display_data"
    }
   ],
   "source": [
    "# 3. FUNDED:\n",
    "\n",
    "training_data['funded'].value_counts().plot(kind='bar')"
   ]
  },
  {
   "cell_type": "code",
   "execution_count": 10,
   "metadata": {},
   "outputs": [
    {
     "data": {
      "text/plain": [
       "<matplotlib.axes._subplots.AxesSubplot at 0x24d1ca2d160>"
      ]
     },
     "execution_count": 10,
     "metadata": {},
     "output_type": "execute_result"
    },
    {
     "data": {
      "image/png": "[encoded data removed]",
      "text/plain": [
       "<Figure size 432x288 with 1 Axes>"
      ]
     },
     "metadata": {
      "needs_background": "light"
     },
     "output_type": "display_data"
    }
   ],
   "source": [
    "# sns.boxplot(x = training_data.category, y = training_data.funded)"
   ]
  },
  {
   "cell_type": "code",
   "execution_count": 3,
   "metadata": {},
   "outputs": [
    {
     "name": "stdout",
     "output_type": "stream",
     "text": [
      "[0, 47, 33, 74, 74, 135, 152, 512, 186, 216, 669, 226, 256, 363, 1406, 1446, 456, 441, 490, 516, 1976, 1972, 745, 697, 802, 1688, 716, 977, 1780, 5735, 40531, 2991, 1658, 1395, 1179, 2357, 815, 674, 527, 718, 2358, 453, 508, 422, 964, 3982, 481, 301, 257, 320, 624, 236, 209, 207, 196, 241, 204, 212, 305, 1957, 6226, 139, 54, 48, 27, 60, 52, 21, 26, 23, 54, 32, 31, 24, 19, 48, 18, 21, 16, 19, 35, 14, 18, 15, 23, 18, 33, 28, 62, 385, 322, 21]\n"
     ]
    }
   ],
   "source": [
    "################################################ MAKE YOUR OWN ATTRIBUTES ####################################################\n",
    "\n",
    "# 4. DAYS_UNTIL_DEADLINE = DEADLINE - LAUNCHED_AT:\n",
    "\n",
    "# calculates how many days a project has from launching to deadline\n",
    "\n",
    "time_until_deadline = [0 for x in range(92)]\n",
    "time_until_deadline_funded = [0 for x in range(92)]\n",
    "\n",
    "# to add them in dataset:\n",
    "to_be_added = []\n",
    "\n",
    "for i in range(len(training_data)):\n",
    "    aux = (int)((training_data.iloc[i].deadline - training_data.iloc[i].launched_at)/60/60/24)\n",
    "    time_until_deadline[aux] += 1\n",
    "    to_be_added.append(aux)\n",
    "    if(training_data.iloc[i].funded == True):\n",
    "        time_until_deadline_funded[aux] += 1\n",
    "    \n",
    "print(time_until_deadline)"
   ]
  },
  {
   "cell_type": "code",
   "execution_count": 56,
   "metadata": {},
   "outputs": [
    {
     "name": "stdout",
     "output_type": "stream",
     "text": [
      "[0, 21, 15, 38, 46, 85, 99, 331, 128, 162, 418, 177, 166, 252, 977, 875, 348, 303, 357, 351, 1266, 1473, 552, 530, 579, 1093, 500, 666, 1221, 3230, 21643, 2220, 1218, 995, 802, 1512, 593, 468, 347, 499, 1418, 305, 339, 283, 577, 2211, 351, 204, 167, 204, 322, 144, 118, 124, 110, 142, 115, 105, 156, 823, 2368, 116, 49, 42, 17, 54, 43, 17, 22, 19, 45, 28, 21, 20, 12, 41, 14, 18, 14, 15, 28, 11, 16, 9, 15, 13, 22, 21, 44, 278, 235, 13]\n"
     ]
    }
   ],
   "source": [
    "# sees number of occurances of these days\n",
    "# 1 day apare de 47 ori, 2 days apare de 33 ori, ...\n",
    "\n",
    "print(time_until_deadline_funded)"
   ]
  },
  {
   "cell_type": "code",
   "execution_count": 57,
   "metadata": {},
   "outputs": [
    {
     "name": "stdout",
     "output_type": "stream",
     "text": [
      "[0, 44, 45, 51, 62, 62, 65, 64, 68, 75, 62, 78, 64, 69, 69, 60, 76, 68, 72, 68, 64, 74, 74, 76, 72, 64, 69, 68, 68, 56, 53, 74, 73, 71, 68, 64, 72, 69, 65, 69, 60, 67, 66, 67, 59, 55, 72, 67, 64, 63, 51, 61, 56, 59, 56, 58, 56, 49, 51, 42, 38, 83, 90, 87, 62, 90, 82, 80, 84, 82, 83, 87, 67, 83, 63, 85, 77, 85, 87, 78, 80, 78, 88, 60, 65, 72, 66, 75, 70, 72, 72, 61]\n"
     ]
    }
   ],
   "source": [
    "# in percentage:\n",
    "\n",
    "for i in range(92):\n",
    "    if (i != 0):\n",
    "        time_until_deadline_funded[i] = (int)((time_until_deadline_funded[i] * 100) / time_until_deadline[i])\n",
    "    \n",
    "print(time_until_deadline_funded)"
   ]
  },
  {
   "cell_type": "code",
   "execution_count": 8,
   "metadata": {},
   "outputs": [
    {
     "name": "stdout",
     "output_type": "stream",
     "text": [
      "21\n"
     ]
    }
   ],
   "source": [
    "training_data['days_until_deadline'] = to_be_added\n",
    "# -------> THIS IS THE SHIT, creezi o noua coloana si egalezi cu o lista creata mai sus!"
   ]
  },
  {
   "cell_type": "code",
   "execution_count": 5,
   "metadata": {},
   "outputs": [
    {
     "name": "stdout",
     "output_type": "stream",
     "text": [
      "[4323, 1566, 1838, 3213, 6106, 2999, 2997, 2650, 311, 77908]\n",
      "[2954, 1055, 1295, 2092, 3780, 1676, 1443, 888, 56, 45903]\n"
     ]
    }
   ],
   "source": [
    "# 5. MONEY_PER_DAY_FUNDED\n",
    "\n",
    "money_per_day = [0 for x in range(10)]\n",
    "money_per_day_funded = [0 for x in range(10)]\n",
    "\n",
    "money_each_day = []\n",
    "\n",
    "for i in range(len(training_data)):\n",
    "    aux = (int)((training_data.iloc[i].deadline - training_data.iloc[i].launched_at)/60/60/24)\n",
    "    money = (float)(training_data.iloc[i].goal / aux)\n",
    "    money_each_day.append(round(money))\n",
    "    if(money < 10):\n",
    "        money_per_day[0] += 1\n",
    "        if(training_data.iloc[i].funded == True):\n",
    "            money_per_day_funded[0] += 1\n",
    "    if money in range(10, 25):\n",
    "        money_per_day[1] += 1\n",
    "        if(training_data.iloc[i].funded == True):\n",
    "            money_per_day_funded[1] += 1\n",
    "    if money in range(25, 50):\n",
    "        money_per_day[2] += 1\n",
    "        if(training_data.iloc[i].funded == True):\n",
    "            money_per_day_funded[2] += 1\n",
    "    if money in range(50, 100):\n",
    "        money_per_day[3] += 1\n",
    "        if(training_data.iloc[i].funded == True):\n",
    "            money_per_day_funded[3] += 1\n",
    "    if money in range(100, 250):\n",
    "        money_per_day[4] += 1\n",
    "        if(training_data.iloc[i].funded == True):\n",
    "            money_per_day_funded[4] += 1\n",
    "    if money in range(250, 500):\n",
    "        money_per_day[5] += 1\n",
    "        if(training_data.iloc[i].funded == True):\n",
    "            money_per_day_funded[5] += 1\n",
    "    if money in range(500, 1000):\n",
    "        money_per_day[6] += 1\n",
    "        if(training_data.iloc[i].funded == True):\n",
    "            money_per_day_funded[6] += 1\n",
    "    if money in range(1000, 5000):\n",
    "        money_per_day[7] += 1\n",
    "        if(training_data.iloc[i].funded == True):\n",
    "            money_per_day_funded[7] += 1\n",
    "    if money in range(5000, 10000):\n",
    "        money_per_day[8] += 1\n",
    "        if(training_data.iloc[i].funded == True):\n",
    "            money_per_day_funded[8] += 1\n",
    "    if(money not in range(0, 10000)):\n",
    "        money_per_day[9] += 1\n",
    "        if(training_data.iloc[i].funded == True):\n",
    "            money_per_day_funded[9] += 1\n",
    "        \n",
    "print(money_per_day)\n",
    "print(money_per_day_funded)"
   ]
  },
  {
   "cell_type": "code",
   "execution_count": 32,
   "metadata": {},
   "outputs": [
    {
     "name": "stdout",
     "output_type": "stream",
     "text": [
      "[68, 67, 70, 65, 61, 55, 48, 33, 18, 0]\n"
     ]
    }
   ],
   "source": [
    "# prediction money/day\n",
    "\n",
    "for i in range(len(money_per_day)):\n",
    "    money_per_day_funded[i] = (int)((money_per_day_funded[i] * 100) / money_per_day[i])\n",
    "    \n",
    "print(money_per_day_funded)"
   ]
  },
  {
   "cell_type": "code",
   "execution_count": 6,
   "metadata": {},
   "outputs": [
    {
     "name": "stdout",
     "output_type": "stream",
     "text": [
      "133.33333333333334\n"
     ]
    }
   ],
   "source": [
    "training_data['money_per_day'] = money_each_day\n",
    "\n",
    "print(training_data.money_per_day[0])"
   ]
  },
  {
   "cell_type": "code",
   "execution_count": null,
   "metadata": {},
   "outputs": [],
   "source": []
  },
  {
   "cell_type": "code",
   "execution_count": null,
   "metadata": {},
   "outputs": [],
   "source": []
  }
 ],
 "metadata": {
  "kernelspec": {
   "display_name": "Python 3",
   "language": "python",
   "name": "python3"
  },
  "language_info": {
   "codemirror_mode": {
    "name": "ipython",
    "version": 3
   },
   "file_extension": ".py",
   "mimetype": "text/x-python",
   "name": "python",
   "nbconvert_exporter": "python",
   "pygments_lexer": "ipython3",
   "version": "3.7.3"
  }
 },
 "nbformat": 4,
 "nbformat_minor": 2
}
